{
 "cells": [
  {
   "cell_type": "code",
   "execution_count": 5,
   "metadata": {
    "id": "ef8uE6whDCWs"
   },
   "outputs": [],
   "source": [
    "# !pip install yfinance"
   ]
  },
  {
   "cell_type": "code",
   "execution_count": 6,
   "metadata": {},
   "outputs": [],
   "source": [
    "# !pip install seaborn"
   ]
  },
  {
   "cell_type": "code",
   "execution_count": 10,
   "metadata": {
    "id": "HnKc8CtJ5MPB"
   },
   "outputs": [],
   "source": [
    "import pandas as pd\n",
    "import numpy as np\n",
    "# import seaborn as sns\n",
    "# import matplotlib.pyplot as plt\n",
    "\n",
    "import yfinance as yf\n",
    "import datetime"
   ]
  },
  {
   "cell_type": "markdown",
   "metadata": {
    "id": "qE47Kzcs52zk"
   },
   "source": [
    "# **Basic example**"
   ]
  },
  {
   "cell_type": "code",
   "execution_count": 11,
   "metadata": {
    "id": "MnRqxZIOMe7m"
   },
   "outputs": [],
   "source": [
    "def finance(name_finance):\n",
    "    msft = yf.Ticker(name_finance)\n",
    "    hist = msft.history(period='max')\n",
    "    hist['finance'] = name_finance\n",
    "    hist.reset_index(inplace =True)\n",
    "    hist['Year'] = hist['Date'].apply(lambda x: x.year)\n",
    "    hist['Month'] = hist['Date'].apply(lambda x: x.month)\n",
    "    hist['WeekNum'] = hist['Date'].apply(lambda x: x.isocalendar()[1])\n",
    "    hist['Day'] = hist['Date'].apply(lambda x: datetime.datetime.strptime(str(x).split(' ')[0], '%Y-%m-%d'))\n",
    "    return hist[['Date', 'Open', 'High', 'Low', 'Close', 'Volume', 'Dividends', \n",
    "                 'Stock Splits', 'finance', 'Year', 'Month', 'WeekNum','Day']]"
   ]
  },
  {
   "cell_type": "code",
   "execution_count": null,
   "metadata": {
    "id": "Y6GD8htzMRKr"
   },
   "outputs": [
    {
     "name": "stderr",
     "output_type": "stream",
     "text": [
      "C:\\Users\\Admin\\AppData\\Local\\Temp\\ipykernel_26500\\3321488463.py:6: FutureWarning: The frame.append method is deprecated and will be removed from pandas in a future version. Use pandas.concat instead.\n",
      "  df = df.append(finance(i))\n",
      "C:\\Users\\Admin\\AppData\\Local\\Temp\\ipykernel_26500\\3321488463.py:6: FutureWarning: The frame.append method is deprecated and will be removed from pandas in a future version. Use pandas.concat instead.\n",
      "  df = df.append(finance(i))\n",
      "C:\\Users\\Admin\\AppData\\Local\\Temp\\ipykernel_26500\\3321488463.py:6: FutureWarning: The frame.append method is deprecated and will be removed from pandas in a future version. Use pandas.concat instead.\n",
      "  df = df.append(finance(i))\n",
      "C:\\Users\\Admin\\AppData\\Local\\Temp\\ipykernel_26500\\3321488463.py:6: FutureWarning: The frame.append method is deprecated and will be removed from pandas in a future version. Use pandas.concat instead.\n",
      "  df = df.append(finance(i))\n"
     ]
    }
   ],
   "source": [
    "from os import lstat\n",
    "lst_finance = ['NKE', 'BB', 'FDX', 'CCL', 'BB.TO', 'LASE', 'URNM', \n",
    "               'VERO', 'TSLA', 'FTNT', 'CEI', 'OP', 'ADCT']\n",
    "df = pd.DataFrame({})\n",
    "for i in lst_finance:\n",
    "    df = df.append(finance(i))"
   ]
  },
  {
   "cell_type": "code",
   "execution_count": null,
   "metadata": {
    "colab": {
     "base_uri": "https://localhost:8080/",
     "height": 206
    },
    "id": "zfwDHD9_PRsV",
    "outputId": "58831c3b-6e83-4c84-83a8-f7ae14f7bc62"
   },
   "outputs": [],
   "source": [
    "df.head()"
   ]
  },
  {
   "cell_type": "code",
   "execution_count": null,
   "metadata": {
    "colab": {
     "base_uri": "https://localhost:8080/"
    },
    "id": "LhRgl0lNPTa9",
    "outputId": "b6ef5b02-bef3-44bf-8838-e14ab663cffd"
   },
   "outputs": [],
   "source": [
    "df.shape"
   ]
  },
  {
   "cell_type": "code",
   "execution_count": null,
   "metadata": {
    "id": "hKYaJrbgjVO-"
   },
   "outputs": [],
   "source": []
  },
  {
   "cell_type": "code",
   "execution_count": null,
   "metadata": {
    "id": "BcuLULWEP5LE"
   },
   "outputs": [],
   "source": [
    "df.to_csv('data_finance.csv')"
   ]
  },
  {
   "cell_type": "code",
   "execution_count": null,
   "metadata": {
    "id": "jV0Jlf11QzvG"
   },
   "outputs": [],
   "source": []
  }
 ],
 "metadata": {
  "colab": {
   "provenance": []
  },
  "kernelspec": {
   "display_name": "Python 3 (ipykernel)",
   "language": "python",
   "name": "python3"
  },
  "language_info": {
   "codemirror_mode": {
    "name": "ipython",
    "version": 3
   },
   "file_extension": ".py",
   "mimetype": "text/x-python",
   "name": "python",
   "nbconvert_exporter": "python",
   "pygments_lexer": "ipython3",
   "version": "3.9.12"
  }
 },
 "nbformat": 4,
 "nbformat_minor": 1
}
